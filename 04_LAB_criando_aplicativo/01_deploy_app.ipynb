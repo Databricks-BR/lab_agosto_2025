{
 "cells": [
  {
   "cell_type": "markdown",
   "metadata": {
    "application/vnd.databricks.v1+cell": {
     "cellMetadata": {},
     "inputWidgets": {},
     "nuid": "72c7884c-ead9-42e9-a150-edf26c685563",
     "showTitle": false,
     "tableResultSettingsMap": {},
     "title": ""
    }
   },
   "source": [
    "<img src=\"https://raw.githubusercontent.com/Databricks-BR/lab_agosto_2025/refs/heads/main/images/head_lab.png\" width=\"1000px\">"
   ]
  },
  {
   "cell_type": "markdown",
   "metadata": {
    "application/vnd.databricks.v1+cell": {
     "cellMetadata": {
      "byteLimit": 2048000,
      "rowLimit": 10000
     },
     "inputWidgets": {},
     "nuid": "9ca181e6-02ea-4718-89cd-b4cbc4c66065",
     "showTitle": false,
     "tableResultSettingsMap": {},
     "title": ""
    }
   },
   "source": [
    "##### Descrição e Objetivos\n",
    "\n",
    "Este projeto tem como objetivo fornecer uma **visualização interativa da inadimplência** no estado de São Paulo, utilizando dados geoespaciais e inteligência artificial para análises avançadas."
   ]
  },
  {
   "cell_type": "markdown",
   "metadata": {
    "application/vnd.databricks.v1+cell": {
     "cellMetadata": {
      "byteLimit": 2048000,
      "rowLimit": 10000
     },
     "inputWidgets": {},
     "nuid": "d94a3e8c-8c29-4cdc-8df6-e8d18cb8ba80",
     "showTitle": false,
     "tableResultSettingsMap": {},
     "title": ""
    }
   },
   "source": [
    "##### Controle de Versão do Código\n",
    "\n",
    " versão | data | autor | e-mail | alterações |\n",
    " --- | --- | --- | --- | --- |\n",
    " 1.0 | 19-AGO-2025 | Luis Assunção<br>Vinicius Fialho | luis.assuncao@databricks.com<br>vinicius.fialho@databricks.com | Primeira versão  |"
   ]
  },
  {
   "cell_type": "markdown",
   "metadata": {
    "application/vnd.databricks.v1+cell": {
     "cellMetadata": {
      "byteLimit": 2048000,
      "rowLimit": 10000
     },
     "inputWidgets": {},
     "nuid": "5772b1c0-b300-43a5-83bc-2ebad202f34c",
     "showTitle": false,
     "tableResultSettingsMap": {},
     "title": ""
    }
   },
   "source": [
    "##### Descrição do Cluster\n",
    "\n",
    "Toda a demo pode ser executada utilizando Serverless ou um tipo de instância de sua pereferência."
   ]
  },
  {
   "cell_type": "code",
   "execution_count": 0,
   "metadata": {
    "application/vnd.databricks.v1+cell": {
     "cellMetadata": {
      "byteLimit": 2048000,
      "rowLimit": 10000
     },
     "inputWidgets": {},
     "nuid": "a56546bd-b5fc-4f8f-99d7-6f0dbaafc022",
     "showTitle": true,
     "tableResultSettingsMap": {},
     "title": "Instala e atualiza as bibliotecas necessárias"
    }
   },
   "outputs": [],
   "source": [
    "%pip install --upgrade databricks-sdk==0.36.0 -q\n",
    "dbutils.library.restartPython()"
   ]
  },
  {
   "cell_type": "code",
   "execution_count": 0,
   "metadata": {
    "application/vnd.databricks.v1+cell": {
     "cellMetadata": {
      "byteLimit": 2048000,
      "rowLimit": 10000
     },
     "inputWidgets": {},
     "nuid": "eed6e27d-010c-4b90-9a83-89c9b3282f9b",
     "showTitle": true,
     "tableResultSettingsMap": {},
     "title": "Configura o Cliente do Workspace no Databricks"
    }
   },
   "outputs": [],
   "source": [
    "from databricks.sdk import WorkspaceClient\n",
    "\n",
    "app_name = \"geospatial-viewer\"\n",
    "\n",
    "# Vá na aba do Databricks SQL Warehouse, selecione o SQL Warehouse desejado, copie o ID e cole na variável abaixo\n",
    "sql_warehouse_id = \"<INSIRA-O-SQL-WAREHOUSE-ID-AQUI>\"\n",
    "\n",
    "w = WorkspaceClient()"
   ]
  },
  {
   "cell_type": "markdown",
   "metadata": {
    "application/vnd.databricks.v1+cell": {
     "cellMetadata": {
      "byteLimit": 2048000,
      "rowLimit": 10000
     },
     "inputWidgets": {},
     "nuid": "1fae4731-16bb-42ae-a720-42159387c9ab",
     "showTitle": false,
     "tableResultSettingsMap": {},
     "title": ""
    }
   },
   "source": [
    "## Deploy do Aplicativo"
   ]
  },
  {
   "cell_type": "markdown",
   "metadata": {
    "application/vnd.databricks.v1+cell": {
     "cellMetadata": {
      "byteLimit": 2048000,
      "rowLimit": 10000
     },
     "inputWidgets": {},
     "nuid": "15249012-7f6c-450c-8cc6-747b844a9071",
     "showTitle": false,
     "tableResultSettingsMap": {},
     "title": ""
    }
   },
   "source": [
    "\n",
    "Para realizarmos o deploy do aplicativo, utilizaremos o **Databricks Apps**, que são aplicações fáceis de criar e usar dentro da plataforma Databricks, permitindo transformar dados e inteligência artificial em soluções práticas. Elas oferecem uma forma rápida e segura de construir ferramentas interativas para análise, visualização e automação, ajudando equipes a tomar decisões melhores com base nos dados.\n",
    "\n",
    "Para saber mais sobre Databricks Apps, [acesse a documentação](https://docs.databricks.com/aws/pt/dev-tools/databricks-apps)."
   ]
  },
  {
   "cell_type": "markdown",
   "metadata": {
    "application/vnd.databricks.v1+cell": {
     "cellMetadata": {},
     "inputWidgets": {},
     "nuid": "d43517e8-e78b-45a3-9f09-d9b28c5a8268",
     "showTitle": false,
     "tableResultSettingsMap": {},
     "title": ""
    }
   },
   "source": [
    "Antes de executar a célula a seguir, siga os seguintes passos:\n",
    "\n",
    "1. Verifique se o **nome completo da tabela Gold** está correto;\n",
    "2. Altere a variável **genie_space_id** com o ID do seu Genie Space no arquivo lakehouse_app/app.py;\n",
    "3. Depois de publicar o Dashboard, clique em Share, vá em Embed dashboard, clique em iFrame, copie o link da variável src e cole na variável **src_dashboard** do arquivo lakehouse_app/app.py."
   ]
  },
  {
   "cell_type": "code",
   "execution_count": 0,
   "metadata": {
    "application/vnd.databricks.v1+cell": {
     "cellMetadata": {
      "byteLimit": 2048000,
      "rowLimit": 10000
     },
     "inputWidgets": {},
     "nuid": "9035f189-86b0-4578-ac51-ad8cbefe2e7f",
     "showTitle": false,
     "tableResultSettingsMap": {},
     "title": ""
    }
   },
   "outputs": [],
   "source": [
    "from databricks.sdk.service.apps import AppResource, AppResourceSqlWarehouse, AppResourceSqlWarehouseSqlWarehousePermission, AppResourceServingEndpoint, AppResourceServingEndpointServingEndpointPermission\n",
    "\n",
    "import os\n",
    "\n",
    "# Obtém o caminho da pasta de criação do Lakehouse App\n",
    "notebook_path = dbutils.notebook.entry_point.getDbutils().notebook().getContext().notebookPath().get()\n",
    "notebook_folder = os.path.dirname(notebook_path)\n",
    "path = (f\"/Workspace{notebook_folder}/lakehouse_app\")\n",
    "\n",
    "resources = []\n",
    "\n",
    "# Define os recursos a serem utilizados\n",
    "sql_resource = AppResource(\n",
    "  name=\"sql_warehouse\",\n",
    "  sql_warehouse=AppResourceSqlWarehouse(\n",
    "    id=sql_warehouse_id,\n",
    "    permission=AppResourceSqlWarehouseSqlWarehousePermission.CAN_USE\n",
    "  )\n",
    ")\n",
    "resources.append(sql_resource)\n",
    "\n",
    "# Checa se o Lakehouse App já existe\n",
    "# Caso o App já exista, apenas será feito o deploy novamente, sem necessidade de criá-lo\n",
    "if app_name in [app.name for app in w.apps.list()]:\n",
    "  print(f\"App {app_name} já existe\")\n",
    "  app = w.apps.get(app_name)\n",
    "\n",
    "  app_deploy = w.apps.deploy_and_wait(app_name=app_name, source_code_path=path)\n",
    "  print(app_deploy.status.message)\n",
    "  print(app.url)\n",
    "\n",
    "else:\n",
    "  print(f\"Criando Lakehouse App com o nome {app_name}, esta etapa deve demorar alguns minutos para completar\")\n",
    "\n",
    "  app_created = w.apps.create_and_wait(name=app_name, resources=resources)\n",
    "  app_deploy = w.apps.deploy_and_wait(app_name=app_name, source_code_path=path)\n",
    "\n",
    "  print(app_deploy.status.message)\n",
    "  print(app_created.url)\n"
   ]
  },
  {
   "cell_type": "markdown",
   "metadata": {
    "application/vnd.databricks.v1+cell": {
     "cellMetadata": {
      "byteLimit": 2048000,
      "rowLimit": 10000
     },
     "inputWidgets": {},
     "nuid": "3c4ca3a2-e97b-4fa6-8e34-93ced58bb3ff",
     "showTitle": false,
     "tableResultSettingsMap": {},
     "title": ""
    }
   },
   "source": [
    "### Passo importante\n",
    "Logo após criar o App, navegue na interface do Databricks para a aba Compute > Apps > Selecione o App criado > clique em Authorization > copie o valor do **Service Principal** > vá até o **catálogo de dados** criado na aba Catalog e dê permissão para o Service Principal utilizar os catálogo, schema e tabela em que armazenamos os dados.\n",
    "\n",
    "Faça o mesmo com o **Genie Space** criado, dê acesso de \"Can Run\" para o Service Principal.\n",
    "\n",
    "Após isso, será possível utilizar o aplicativo com todos os dados já integrados."
   ]
  }
 ],
 "metadata": {
  "application/vnd.databricks.v1+notebook": {
   "computePreferences": {
    "hardware": {
     "accelerator": null,
     "gpuPoolId": null,
     "memory": null
    }
   },
   "dashboards": [],
   "environmentMetadata": {
    "base_environment": "dbe_f14fbde8-5353-4144-89be-f0a3e93fffc9",
    "environment_version": "2"
   },
   "inputWidgetPreferences": null,
   "language": "python",
   "notebookMetadata": {
    "pythonIndentUnit": 2
   },
   "notebookName": "01_deploy_app",
   "widgets": {}
  },
  "language_info": {
   "name": "python"
  }
 },
 "nbformat": 4,
 "nbformat_minor": 0
}
